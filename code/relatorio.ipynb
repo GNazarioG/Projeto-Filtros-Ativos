{
 "cells": [
  {
   "cell_type": "markdown",
   "metadata": {},
   "source": [
    "<center><img src='https://github.com/MateusPincho/Projeto-Filtros-Ativos/blob/master/docs/logo.png?raw=true'/></center>\n",
    "\n",
    "<h1 align = 'center'>Trabalho de Circuitos Elétricos II<h1/>\n",
    "<h2 align = 'center'>Projeto de Filtro Ativo<h2/>\n",
    " "
   ]
  },
  {
   "cell_type": "markdown",
   "metadata": {},
   "source": [
    "Este projeto tem como objetivo o estudo referente ao dimensionamento de um Filtro Ativo. O projeto está salvo e disponível para consulta em nosso [repositório](https://github.com/MateusPincho/Projeto-Filtros-Ativos/tree/master).\n",
    "\n",
    "Projetistas:\n",
    "\n",
    "- André Vitor Cadena de Oliveira\n",
    "- Fábio Augusto Almeida Marçal\n",
    "- Gabriel Nazário Gonçalves\n",
    "- Lorenzo Carrera de Oliveira\n",
    "- Mateus Pincho de Oliveira\n",
    "\n",
    "---"
   ]
  },
  {
   "cell_type": "markdown",
   "metadata": {},
   "source": [
    "## Instruções\n",
    "\n",
    "Projete um filtro **Multiple Feedback passa-alta** com as seguintes características: \n",
    "- Frequência de corte = $8$ kHz\n",
    "- Ganho na faixa de passagem: $2.2$ V/V\n",
    "\n",
    "Caso não encontre os dispositivos eletrônicos adequados para projeto do filtro acimaindicado, realize o projeto do filtro mais próximo possível, de acordo com os componentes encontrados, e indique a escolha com justificativa.\n",
    "\n",
    "---"
   ]
  },
  {
   "cell_type": "markdown",
   "metadata": {},
   "source": [
    "## Questão 1\n",
    "\n",
    "Apresente a função de transferência do circuito e o memorial de cálculo da escolha dos componentes para a montagem do seguinte **Filtro Ativo**:\n",
    "\n",
    "<center><img src='https://github.com/MateusPincho/Projeto-Filtros-Ativos/blob/master/docs/schematic.jpeg?raw=true'/></center>\n",
    "\n",
    "---\n",
    "\n",
    "### Memorial de Cálculo para o Filtro Ativo\n",
    "\n",
    "Sendo a frequência de corte deseja de $8 \\text{ kHz}$, então $w_0 = 2\\pi\\cdot8\\cdot 10^3 = 50.26 \\text{ krad/s}$. \n",
    "\n",
    "O ganho máximo $H$ do filtro é especificado nas instruções e deve ser igual a $2.2$ .\n",
    "\n",
    "Escolhendo $C_1$ como $68 \\text{ nF}$, então: \n",
    "\n",
    "$$k = 2\\pi\\cdot8\\text{k}\\cdot68\\text{n} = 3.41\\cdot10^{-3}$$\n",
    "$$C_3 = C_1 = 68 \\text{ nF}$$\n",
    "$$C_4 = \\frac{68\\text{n}}{2.2} = 30.91 \\text{ nF}$$\n",
    "\n",
    "Considerando o fator de qualidade $Q$ como igual a $1$, então: \n",
    "\n",
    "$$R_2 = \\frac{1}{3.41\\cdot10^{-3}(2+\\frac{1}{2.2})} = 119.19 \\space \\Omega$$\n",
    "$$R_5 = \\frac{2.2(2+\\frac{1}{2.2})}{1\\cdot3.41\\cdot10^{-3}} = 1583.58 \\space \\Omega$$\n",
    "\n",
    "Tendo em mente que: \n",
    "\n",
    "$$\\frac{-Hs^2}{s^2+\\alpha\\omega_0s+w_0^2}$$ \n",
    "\n",
    "é a função de transferência para a topologia *Multiple Feedback*, temos que a função de transferência para o filtro projetado será: \n",
    "\n",
    "$$H(s) = \\frac{V_{out}}{V_{in}} = \\frac{-2.2s^2}{s^2+50.15\\cdot10^3s+2.51\\cdot10^9}$$\n",
    "\n",
    "Sendo a variável complexa $s=j\\omega$ .\n",
    "\n",
    "---"
   ]
  },
  {
   "cell_type": "code",
   "execution_count": null,
   "metadata": {},
   "outputs": [],
   "source": [
    "# Função de transferência do circuito (Diagrama de Bode)"
   ]
  },
  {
   "cell_type": "markdown",
   "metadata": {},
   "source": [
    "## Questão 2\n",
    "\n",
    "Para efeitos comparativos, plote a função de transferência do circuito junto com o **Filtro Passivo** de igual característica.\n",
    "\n",
    "---\n",
    "\n",
    "### Memorial de Cálculo do Filtro Passivo\n",
    "\n",
    "Para isso, devemos encontrar a função de transferência de um filtro passivo passa-alta, com frequência de corte $\\omega_c = 8 \\text{ kHz}$. Escolhendo um circuito RC, a função de transferência do filtro é da forma: \n",
    "\n",
    "$$ H(s) = \\frac{sRC}{1+sRC}$$\n",
    "\n",
    "e sua frequência de corte $\\omega_c$ igual a: \n",
    "\n",
    "$$ \\omega_c = \\frac{1}{RC}$$\n",
    "\n",
    "Escolhendo $R = 1\\text{ k}\\Omega $ , o capacitor $C$ deve ser igual a: \n",
    "\n",
    "$$ 8\\cdot 10^3 = \\frac{1}{1\\cdot 10^3 \\cdot C} $$\n",
    "$$ C = 125 \\text{ nF}$$\n",
    "\n",
    "A função de transferência do filtro passivo será: \n",
    "\n",
    "$$ H(s) = \\frac{s125\\cdot10^{-6}}{1+s125\\cdot10^{-6}}$$\n",
    "\n",
    "---"
   ]
  },
  {
   "cell_type": "code",
   "execution_count": null,
   "metadata": {},
   "outputs": [],
   "source": [
    "# Comparação das duas funções de transferência"
   ]
  },
  {
   "cell_type": "markdown",
   "metadata": {},
   "source": [
    "## Questão 3\n",
    "\n",
    "Realize a montagem do circuito em placa protoboard. Para tanto, utilize os componentes adequados, assim como as ligaçõoes e adequações necessárias para utilização do(s) amplificador(es) operacional(ais) conforme indicado no *datasheet*.\n",
    "\n",
    "---\n",
    "\n",
    "### Ajuste de Valores Nominais\n",
    "\n",
    "Ajustando os valores encontrados para componentes encontrados comercialmente, temos: \n",
    "\n",
    "$$C_1 = C_3 = 68 \\text{ nF}$$\n",
    "$$C_4 = 33 \\text{ nF}$$\n",
    "$$R_2 = (68 + 56) \\space \\Omega$$\n",
    "$$R_5 = 1.6 \\text{k} \\space \\Omega$$\n",
    "\n",
    "---\n",
    "\n",
    "### Montagem no Ambiente Virtual - LTSpice\n",
    "\n",
    "---"
   ]
  }
 ],
 "metadata": {
  "kernelspec": {
   "display_name": "Python 3",
   "language": "python",
   "name": "python3"
  },
  "language_info": {
   "codemirror_mode": {
    "name": "ipython",
    "version": 3
   },
   "file_extension": ".py",
   "mimetype": "text/x-python",
   "name": "python",
   "nbconvert_exporter": "python",
   "pygments_lexer": "ipython3",
   "version": "3.8.10"
  }
 },
 "nbformat": 4,
 "nbformat_minor": 2
}
