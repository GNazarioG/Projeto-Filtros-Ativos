{
 "cells": [
  {
   "cell_type": "markdown",
   "metadata": {},
   "source": [
    "<center><img src='https://github.com/MateusPincho/Projeto-Filtros-Ativos/blob/master/docs/logo.png?raw=true'/></center>\n",
    "\n",
    "<h1 align = 'center'>Trabalho de Circuitos Elétricos II<h1/>\n",
    "<h2 align = 'center'>Projeto de Filtro Ativo<h2/>\n",
    " "
   ]
  },
  {
   "cell_type": "markdown",
   "metadata": {},
   "source": [
    "Este projeto tem como objetivo o estudo referente ao dimensionamento de um Filtro Ativo. O projeto está salvo e disponível para consulta em nosso [repositório](https://github.com/MateusPincho/Projeto-Filtros-Ativos/tree/master).\n",
    "\n",
    "Projetistas:\n",
    "\n",
    "- André Vitor Cadena de Oliveira\n",
    "- Fábio Augusto Almeida Marçal\n",
    "- Gabriel Nazário Gonçalves\n",
    "- Lorenzo Carrera de Oliveira\n",
    "- Mateus Pincho de Oliveira\n",
    "\n",
    "---"
   ]
  },
  {
   "cell_type": "code",
   "execution_count": 274,
   "metadata": {},
   "outputs": [],
   "source": [
    "# Importando os módulos utilizados...\n",
    "import numpy as np\n",
    "from scipy import signal\n",
    "import plotly.graph_objects as go\n",
    "from plotly.subplots import make_subplots"
   ]
  },
  {
   "cell_type": "markdown",
   "metadata": {},
   "source": [
    "## Instruções\n",
    "\n",
    "Projete um filtro **Multiple Feedback passa-alta** com as seguintes características: \n",
    "- Frequência de Corte = $8 \\text{ kHz}$\n",
    "- Ganho na Faixa de Passagem: $2,2 \\text{ V/V}$ ou $6,85 \\text{ dB}$ \n",
    "\n",
    "Caso não encontre os dispositivos eletrônicos adequados para projeto do filtro acimaindicado, realize o projeto do filtro mais próximo possível, de acordo com os componentes encontrados, e indique a escolha com justificativa.\n",
    "\n",
    "---"
   ]
  },
  {
   "cell_type": "markdown",
   "metadata": {},
   "source": [
    "## Questão 1\n",
    "\n",
    "Apresente a função de transferência do circuito e o memorial de cálculo da escolha dos componentes para a montagem do seguinte **Filtro Ativo**:\n",
    "\n",
    "<center><img src='https://github.com/MateusPincho/Projeto-Filtros-Ativos/blob/master/docs/schematic.jpeg?raw=true'/></center>\n",
    "\n",
    "---\n",
    "\n",
    "### Memorial de Cálculo para o Filtro Ativo\n",
    "\n",
    "Sendo a frequência de corte deseja de $8 \\text{ kHz}$, então $w_0 = 2\\pi\\cdot8\\cdot 10^3 = 50,26 \\text{ krad/s}$. \n",
    "\n",
    "O ganho na faixa de passagem $H$ do filtro é especificado nas instruções e deve ser igual a $2,2$ .\n",
    "\n",
    "Escolhendo $C_1$ como $68 \\text{ nF}$, então: \n",
    "\n",
    "$$k = 2\\pi\\cdot8\\text{k}\\cdot68\\text{n} = 3,41\\cdot10^{-3}$$\n",
    "$$C_3 = C_1 = 68 \\text{ nF}$$\n",
    "$$C_4 = \\frac{68\\text{n}}{2,2} = 30,91 \\text{ nF}$$\n",
    "\n",
    "Considerando o fator de qualidade $Q$ como igual a $1$, então: \n",
    "\n",
    "$$R_2 = \\frac{1}{3,41\\cdot10^{-3}(2+\\frac{1}{2,2})} = 119,19 \\space \\Omega$$\n",
    "$$R_5 = \\frac{2,2(2+\\frac{1}{2,2})}{1\\cdot3,41\\cdot10^{-3}} = 1583,58 \\space \\Omega$$\n",
    "\n",
    "Tendo em mente que\n",
    "\n",
    "$$\\frac{-Hs^2}{s^2+\\alpha\\omega_0s+w_0^2}$$ \n",
    "\n",
    "é a função de transferência para a topologia *Multiple Feedback*, temos que a função de transferência para o filtro projetado será: \n",
    "\n",
    "$$H(s) = \\frac{V_{out}}{V_{in}} = \\frac{-2,2s^2}{s^2+50,15\\cdot10^3s+2,51\\cdot10^9}$$\n",
    "\n",
    "Sendo a variável complexa $s=j\\omega$ .\n",
    "\n",
    "---"
   ]
  },
  {
   "cell_type": "code",
   "execution_count": 275,
   "metadata": {},
   "outputs": [
    {
     "data": {
      "application/vnd.plotly.v1+json": {
       "config": {
        "plotlyServerURL": "https://plot.ly"
       },
       "data": [
        {
         "line": {
          "color": "royalblue"
         },
         "mode": "lines",
         "name": "Ganho Ativo",
         "type": "scatter",
         "x": [
          0.0015915494309189536,
          0.0019170269240387297,
          0.002309065716776053,
          0.0027812778305469385,
          0.003350058993337053,
          0.004035157917550251,
          0.004860361997192533,
          0.005854323232557652,
          0.007051553059434932,
          0.008493620624412019,
          0.010230596111719286,
          0.012322789235523606,
          0.014842843260051001,
          0.017878257254237636,
          0.02153442415638649,
          0.025938290133801757,
          0.031242762294423663,
          0.0376320177910969,
          0.04532789865645768,
          0.05459761440419458,
          0.06576301983953627,
          0.07921179021482994,
          0.09541088174399862,
          0.11492274483985838,
          0.13842485301586605,
          0.16673322551741226,
          0.20083076041448902,
          0.24190136191211536,
          0.2913710468165639,
          0.3509574574194583,
          0.4227294999419584,
          0.5091791792519136,
          0.6133081240349911,
          0.7387318066696192,
          0.8898050764353228,
          1.0717733647065828,
          1.2909548121441445,
          1.5549596415417335,
          1.8729543931965453,
          2.2559801973484785,
          2.7173361344599485,
          3.273040994030123,
          3.942389464721403,
          4.748622067335856,
          5.719732091457017,
          6.889437553491747,
          8.298351923572612,
          9.995394270256488,
          12.039487784806278,
          14.501605659701525,
          17.467235356547285,
          21.039346825494597,
          25.341967736040594,
          30.524489855184704,
          36.7668560951633,
          44.285808330809346,
          53.34241291768179,
          64.25112520529345,
          77.39070777538616,
          93.21738149858562,
          112.28066602869977,
          135.24245973418303,
          162.9000215431291,
          196.21365265693112,
          236.34003927238032,
          284.6724140084815,
          342.8889304872301,
          413.0109306874158,
          497.4731281785674,
          599.2081440746948,
          721.7483308898652,
          869.3484197327089,
          1047.1332492864246,
          1261.275705888182,
          1519.2110529847082,
          1829.8950917203556,
          2204.115116279336,
          2654.864460696355,
          3197.793641815985,
          3851.753762584375,
          4639.45104323797,
          5588.235206437431,
          6731.04908995266,
          8107.572458503626,
          9765.599729172207,
          11762.699446538143,
          14168.213126355198,
          17065.662869835804,
          20555.65134358006,
          24759.3548156674,
          29822.730529994686,
          35921.58450356224,
          43267.67570624578,
          52116.06856694189,
          62773.989093251024,
          75611.49209898697,
          91074.30991747866,
          109699.32872222869,
          132133.22980993625,
          159154.94309189534
         ],
         "xaxis": "x",
         "y": [
          -261.1450208131765,
          -257.91269758085315,
          -254.68037434852982,
          -251.44805111620641,
          -248.21572788388295,
          -244.98340465155937,
          -241.75108141923562,
          -238.51875818691167,
          -235.28643495458738,
          -232.05411172226263,
          -228.82178848993718,
          -225.58946525761073,
          -222.35714202528283,
          -219.12481879295282,
          -215.89249556061975,
          -212.6601723282823,
          -209.42784909593837,
          -206.19552586358512,
          -202.9632026312184,
          -199.730879398832,
          -196.49855616641716,
          -193.266232933961,
          -190.03390970144494,
          -186.80158646884195,
          -183.5692632361128,
          -180.33694000320068,
          -177.10461677002303,
          -173.87229353646023,
          -170.6399703023386,
          -167.40764706740617,
          -164.17532383129748,
          -160.94300059348214,
          -157.71067735319085,
          -154.4783541093073,
          -151.24603086021204,
          -148.01370760355545,
          -144.78138433592872,
          -141.54906105238612,
          -138.31673774575236,
          -135.08441440561728,
          -131.85209101687755,
          -128.61976755762075,
          -125.38744399605582,
          -122.15512028605926,
          -118.92279636071392,
          -115.69047212293447,
          -112.45814743186683,
          -109.2258220831561,
          -105.99349578031888,
          -102.76116809320945,
          -99.52883839776236,
          -96.2965057885703,
          -93.06416895205223,
          -89.83182598244797,
          -86.59947411487016,
          -83.36710933803397,
          -80.13472583244804,
          -76.90231515544029,
          -73.66986505900881,
          -70.43735777523149,
          -67.20476752975189,
          -63.972056936512054,
          -60.73917177184633,
          -57.50603340253191,
          -54.2725278211677,
          -51.03848978268236,
          -47.803679882776066,
          -44.56775150105297,
          -41.33020326261217,
          -38.09031096686975,
          -34.847030756270215,
          -31.59886280084041,
          -28.343662647994677,
          -25.07838777782018,
          -21.798775810455222,
          -18.498984496885257,
          -15.171326305982085,
          -11.806524282297982,
          -8.395742451676469,
          -4.937933898193256,
          -1.4619437754285538,
          1.9164104229196255,
          4.892924890377964,
          6.9796412169009265,
          7.93243468735138,
          8.083050970942852,
          7.904057319338573,
          7.658783279204365,
          7.440938985252862,
          7.271181399230341,
          7.146065853469966,
          7.056367094057129,
          6.99302204624607,
          6.948679269028255,
          6.917804717016137,
          6.896380628803426,
          6.881547044109151,
          6.871291541311683,
          6.864208101078829,
          6.85931881448533
         ],
         "yaxis": "y"
        },
        {
         "line": {
          "color": "orange"
         },
         "mode": "lines",
         "name": "Fase Ativa",
         "type": "scatter",
         "x": [
          0.0015915494309189536,
          0.0019170269240387297,
          0.002309065716776053,
          0.0027812778305469385,
          0.003350058993337053,
          0.004035157917550251,
          0.004860361997192533,
          0.005854323232557652,
          0.007051553059434932,
          0.008493620624412019,
          0.010230596111719286,
          0.012322789235523606,
          0.014842843260051001,
          0.017878257254237636,
          0.02153442415638649,
          0.025938290133801757,
          0.031242762294423663,
          0.0376320177910969,
          0.04532789865645768,
          0.05459761440419458,
          0.06576301983953627,
          0.07921179021482994,
          0.09541088174399862,
          0.11492274483985838,
          0.13842485301586605,
          0.16673322551741226,
          0.20083076041448902,
          0.24190136191211536,
          0.2913710468165639,
          0.3509574574194583,
          0.4227294999419584,
          0.5091791792519136,
          0.6133081240349911,
          0.7387318066696192,
          0.8898050764353228,
          1.0717733647065828,
          1.2909548121441445,
          1.5549596415417335,
          1.8729543931965453,
          2.2559801973484785,
          2.7173361344599485,
          3.273040994030123,
          3.942389464721403,
          4.748622067335856,
          5.719732091457017,
          6.889437553491747,
          8.298351923572612,
          9.995394270256488,
          12.039487784806278,
          14.501605659701525,
          17.467235356547285,
          21.039346825494597,
          25.341967736040594,
          30.524489855184704,
          36.7668560951633,
          44.285808330809346,
          53.34241291768179,
          64.25112520529345,
          77.39070777538616,
          93.21738149858562,
          112.28066602869977,
          135.24245973418303,
          162.9000215431291,
          196.21365265693112,
          236.34003927238032,
          284.6724140084815,
          342.8889304872301,
          413.0109306874158,
          497.4731281785674,
          599.2081440746948,
          721.7483308898652,
          869.3484197327089,
          1047.1332492864246,
          1261.275705888182,
          1519.2110529847082,
          1829.8950917203556,
          2204.115116279336,
          2654.864460696355,
          3197.793641815985,
          3851.753762584375,
          4639.45104323797,
          5588.235206437431,
          6731.04908995266,
          8107.572458503626,
          9765.599729172207,
          11762.699446538143,
          14168.213126355198,
          17065.662869835804,
          20555.65134358006,
          24759.3548156674,
          29822.730529994686,
          35921.58450356224,
          43267.67570624578,
          52116.06856694189,
          62773.989093251024,
          75611.49209898697,
          91074.30991747866,
          109699.32872222869,
          132133.22980993625,
          159154.94309189534
         ],
         "xaxis": "x",
         "y": [
          -0.000011447742400721733,
          -0.000013788846249640063,
          -0.00001660871412377577,
          -0.00002000525496123446,
          -0.00002409640042458736,
          -0.00002902419961891022,
          -0.00003495975119415766,
          -0.000042109144079933795,
          -0.000050720613121555603,
          -0.00006109315806902408,
          -0.00007358692517975398,
          -0.00008863571189581557,
          -0.00010676202877194394,
          -0.00012859524162115016,
          -0.0001548934237933427,
          -0.00018656967732229375,
          -0.00022472383684035547,
          -0.0002706806570559929,
          -0.00032603580970569704,
          -0.0003927112870454613,
          -0.0004730221355524999,
          -0.0005697568369053921,
          -0.0006862741271595256,
          -0.0008266196157871909,
          -0.0009956662537251265,
          -0.0011992835276366368,
          -0.001444541255002017,
          -0.0017399550560312073,
          -0.0020957820254599115,
          -0.0025243768702892717,
          -0.0030406208789794673,
          -0.003662438616406311,
          -0.004411420284843094,
          -0.005313571360101685,
          -0.006400215531154681,
          -0.007709082294519711,
          -0.009285616966267179,
          -0.011184558597382158,
          -0.013471840580607124,
          -0.016226879941962907,
          -0.0195453348072186,
          -0.02354242579177455,
          -0.02835693664708205,
          -0.034156033089326146,
          -0.04114106715838162,
          -0.049554568698378834,
          -0.05968866681242057,
          -0.07189523386947108,
          -0.08659810458175939,
          -0.10430779494941594,
          -0.12563923306850422,
          -0.15133311907510957,
          -0.18228165873126834,
          -0.21955956915785557,
          -0.26446144201703853,
          -0.3185467767254096,
          -0.3836942740219684,
          -0.4621673217231171,
          -0.5566930280198384,
          -0.6705576890912486,
          -0.8077222551180883,
          -0.9729622396795179,
          -1.1720376924089866,
          -1.4119004691976778,
          -1.7009483277605708,
          -2.0493387506942713,
          -2.469380536468002,
          -2.9760292769522425,
          -3.587525902363141,
          -4.3262391084001335,
          -5.21980904191488,
          -6.302752488399597,
          -7.618799575378984,
          -9.2244264053928,
          -11.194396769389217,
          -13.630757765427463,
          -16.677878168035285,
          -20.54813095732836,
          -25.565949013348252,
          -32.24047424965305,
          -41.364929384286434,
          -54.04663206844482,
          -71.21658476788035,
          -91.9061774558966,
          -112.1867681589129,
          -128.53819284328523,
          -140.4950352204491,
          -149.10717980391942,
          -155.43634801484274,
          -160.21783511789988,
          -163.9208737387422,
          -166.84544944654297,
          -169.18918176136896,
          -171.08736313435125,
          -172.63627127851007,
          -173.90686010587694,
          -174.9529888207329,
          -175.81652107272657,
          -176.53059655729584,
          -177.12180974756922
         ],
         "yaxis": "y2"
        }
       ],
       "layout": {
        "font": {
         "color": "black",
         "family": "Arial",
         "size": 15
        },
        "legend": {
         "title": {
          "text": "Curvas"
         }
        },
        "plot_bgcolor": "white",
        "shapes": [
         {
          "line": {
           "color": "crimson",
           "dash": "dash",
           "width": 1
          },
          "type": "line",
          "x0": 8000,
          "x1": 8000,
          "xref": "x",
          "y0": 0,
          "y1": 1,
          "yref": "y domain"
         }
        ],
        "template": {
         "data": {
          "bar": [
           {
            "error_x": {
             "color": "#2a3f5f"
            },
            "error_y": {
             "color": "#2a3f5f"
            },
            "marker": {
             "line": {
              "color": "#E5ECF6",
              "width": 0.5
             },
             "pattern": {
              "fillmode": "overlay",
              "size": 10,
              "solidity": 0.2
             }
            },
            "type": "bar"
           }
          ],
          "barpolar": [
           {
            "marker": {
             "line": {
              "color": "#E5ECF6",
              "width": 0.5
             },
             "pattern": {
              "fillmode": "overlay",
              "size": 10,
              "solidity": 0.2
             }
            },
            "type": "barpolar"
           }
          ],
          "carpet": [
           {
            "aaxis": {
             "endlinecolor": "#2a3f5f",
             "gridcolor": "white",
             "linecolor": "white",
             "minorgridcolor": "white",
             "startlinecolor": "#2a3f5f"
            },
            "baxis": {
             "endlinecolor": "#2a3f5f",
             "gridcolor": "white",
             "linecolor": "white",
             "minorgridcolor": "white",
             "startlinecolor": "#2a3f5f"
            },
            "type": "carpet"
           }
          ],
          "choropleth": [
           {
            "colorbar": {
             "outlinewidth": 0,
             "ticks": ""
            },
            "type": "choropleth"
           }
          ],
          "contour": [
           {
            "colorbar": {
             "outlinewidth": 0,
             "ticks": ""
            },
            "colorscale": [
             [
              0,
              "#0d0887"
             ],
             [
              0.1111111111111111,
              "#46039f"
             ],
             [
              0.2222222222222222,
              "#7201a8"
             ],
             [
              0.3333333333333333,
              "#9c179e"
             ],
             [
              0.4444444444444444,
              "#bd3786"
             ],
             [
              0.5555555555555556,
              "#d8576b"
             ],
             [
              0.6666666666666666,
              "#ed7953"
             ],
             [
              0.7777777777777778,
              "#fb9f3a"
             ],
             [
              0.8888888888888888,
              "#fdca26"
             ],
             [
              1,
              "#f0f921"
             ]
            ],
            "type": "contour"
           }
          ],
          "contourcarpet": [
           {
            "colorbar": {
             "outlinewidth": 0,
             "ticks": ""
            },
            "type": "contourcarpet"
           }
          ],
          "heatmap": [
           {
            "colorbar": {
             "outlinewidth": 0,
             "ticks": ""
            },
            "colorscale": [
             [
              0,
              "#0d0887"
             ],
             [
              0.1111111111111111,
              "#46039f"
             ],
             [
              0.2222222222222222,
              "#7201a8"
             ],
             [
              0.3333333333333333,
              "#9c179e"
             ],
             [
              0.4444444444444444,
              "#bd3786"
             ],
             [
              0.5555555555555556,
              "#d8576b"
             ],
             [
              0.6666666666666666,
              "#ed7953"
             ],
             [
              0.7777777777777778,
              "#fb9f3a"
             ],
             [
              0.8888888888888888,
              "#fdca26"
             ],
             [
              1,
              "#f0f921"
             ]
            ],
            "type": "heatmap"
           }
          ],
          "heatmapgl": [
           {
            "colorbar": {
             "outlinewidth": 0,
             "ticks": ""
            },
            "colorscale": [
             [
              0,
              "#0d0887"
             ],
             [
              0.1111111111111111,
              "#46039f"
             ],
             [
              0.2222222222222222,
              "#7201a8"
             ],
             [
              0.3333333333333333,
              "#9c179e"
             ],
             [
              0.4444444444444444,
              "#bd3786"
             ],
             [
              0.5555555555555556,
              "#d8576b"
             ],
             [
              0.6666666666666666,
              "#ed7953"
             ],
             [
              0.7777777777777778,
              "#fb9f3a"
             ],
             [
              0.8888888888888888,
              "#fdca26"
             ],
             [
              1,
              "#f0f921"
             ]
            ],
            "type": "heatmapgl"
           }
          ],
          "histogram": [
           {
            "marker": {
             "pattern": {
              "fillmode": "overlay",
              "size": 10,
              "solidity": 0.2
             }
            },
            "type": "histogram"
           }
          ],
          "histogram2d": [
           {
            "colorbar": {
             "outlinewidth": 0,
             "ticks": ""
            },
            "colorscale": [
             [
              0,
              "#0d0887"
             ],
             [
              0.1111111111111111,
              "#46039f"
             ],
             [
              0.2222222222222222,
              "#7201a8"
             ],
             [
              0.3333333333333333,
              "#9c179e"
             ],
             [
              0.4444444444444444,
              "#bd3786"
             ],
             [
              0.5555555555555556,
              "#d8576b"
             ],
             [
              0.6666666666666666,
              "#ed7953"
             ],
             [
              0.7777777777777778,
              "#fb9f3a"
             ],
             [
              0.8888888888888888,
              "#fdca26"
             ],
             [
              1,
              "#f0f921"
             ]
            ],
            "type": "histogram2d"
           }
          ],
          "histogram2dcontour": [
           {
            "colorbar": {
             "outlinewidth": 0,
             "ticks": ""
            },
            "colorscale": [
             [
              0,
              "#0d0887"
             ],
             [
              0.1111111111111111,
              "#46039f"
             ],
             [
              0.2222222222222222,
              "#7201a8"
             ],
             [
              0.3333333333333333,
              "#9c179e"
             ],
             [
              0.4444444444444444,
              "#bd3786"
             ],
             [
              0.5555555555555556,
              "#d8576b"
             ],
             [
              0.6666666666666666,
              "#ed7953"
             ],
             [
              0.7777777777777778,
              "#fb9f3a"
             ],
             [
              0.8888888888888888,
              "#fdca26"
             ],
             [
              1,
              "#f0f921"
             ]
            ],
            "type": "histogram2dcontour"
           }
          ],
          "mesh3d": [
           {
            "colorbar": {
             "outlinewidth": 0,
             "ticks": ""
            },
            "type": "mesh3d"
           }
          ],
          "parcoords": [
           {
            "line": {
             "colorbar": {
              "outlinewidth": 0,
              "ticks": ""
             }
            },
            "type": "parcoords"
           }
          ],
          "pie": [
           {
            "automargin": true,
            "type": "pie"
           }
          ],
          "scatter": [
           {
            "fillpattern": {
             "fillmode": "overlay",
             "size": 10,
             "solidity": 0.2
            },
            "type": "scatter"
           }
          ],
          "scatter3d": [
           {
            "line": {
             "colorbar": {
              "outlinewidth": 0,
              "ticks": ""
             }
            },
            "marker": {
             "colorbar": {
              "outlinewidth": 0,
              "ticks": ""
             }
            },
            "type": "scatter3d"
           }
          ],
          "scattercarpet": [
           {
            "marker": {
             "colorbar": {
              "outlinewidth": 0,
              "ticks": ""
             }
            },
            "type": "scattercarpet"
           }
          ],
          "scattergeo": [
           {
            "marker": {
             "colorbar": {
              "outlinewidth": 0,
              "ticks": ""
             }
            },
            "type": "scattergeo"
           }
          ],
          "scattergl": [
           {
            "marker": {
             "colorbar": {
              "outlinewidth": 0,
              "ticks": ""
             }
            },
            "type": "scattergl"
           }
          ],
          "scattermapbox": [
           {
            "marker": {
             "colorbar": {
              "outlinewidth": 0,
              "ticks": ""
             }
            },
            "type": "scattermapbox"
           }
          ],
          "scatterpolar": [
           {
            "marker": {
             "colorbar": {
              "outlinewidth": 0,
              "ticks": ""
             }
            },
            "type": "scatterpolar"
           }
          ],
          "scatterpolargl": [
           {
            "marker": {
             "colorbar": {
              "outlinewidth": 0,
              "ticks": ""
             }
            },
            "type": "scatterpolargl"
           }
          ],
          "scatterternary": [
           {
            "marker": {
             "colorbar": {
              "outlinewidth": 0,
              "ticks": ""
             }
            },
            "type": "scatterternary"
           }
          ],
          "surface": [
           {
            "colorbar": {
             "outlinewidth": 0,
             "ticks": ""
            },
            "colorscale": [
             [
              0,
              "#0d0887"
             ],
             [
              0.1111111111111111,
              "#46039f"
             ],
             [
              0.2222222222222222,
              "#7201a8"
             ],
             [
              0.3333333333333333,
              "#9c179e"
             ],
             [
              0.4444444444444444,
              "#bd3786"
             ],
             [
              0.5555555555555556,
              "#d8576b"
             ],
             [
              0.6666666666666666,
              "#ed7953"
             ],
             [
              0.7777777777777778,
              "#fb9f3a"
             ],
             [
              0.8888888888888888,
              "#fdca26"
             ],
             [
              1,
              "#f0f921"
             ]
            ],
            "type": "surface"
           }
          ],
          "table": [
           {
            "cells": {
             "fill": {
              "color": "#EBF0F8"
             },
             "line": {
              "color": "white"
             }
            },
            "header": {
             "fill": {
              "color": "#C8D4E3"
             },
             "line": {
              "color": "white"
             }
            },
            "type": "table"
           }
          ]
         },
         "layout": {
          "annotationdefaults": {
           "arrowcolor": "#2a3f5f",
           "arrowhead": 0,
           "arrowwidth": 1
          },
          "autotypenumbers": "strict",
          "coloraxis": {
           "colorbar": {
            "outlinewidth": 0,
            "ticks": ""
           }
          },
          "colorscale": {
           "diverging": [
            [
             0,
             "#8e0152"
            ],
            [
             0.1,
             "#c51b7d"
            ],
            [
             0.2,
             "#de77ae"
            ],
            [
             0.3,
             "#f1b6da"
            ],
            [
             0.4,
             "#fde0ef"
            ],
            [
             0.5,
             "#f7f7f7"
            ],
            [
             0.6,
             "#e6f5d0"
            ],
            [
             0.7,
             "#b8e186"
            ],
            [
             0.8,
             "#7fbc41"
            ],
            [
             0.9,
             "#4d9221"
            ],
            [
             1,
             "#276419"
            ]
           ],
           "sequential": [
            [
             0,
             "#0d0887"
            ],
            [
             0.1111111111111111,
             "#46039f"
            ],
            [
             0.2222222222222222,
             "#7201a8"
            ],
            [
             0.3333333333333333,
             "#9c179e"
            ],
            [
             0.4444444444444444,
             "#bd3786"
            ],
            [
             0.5555555555555556,
             "#d8576b"
            ],
            [
             0.6666666666666666,
             "#ed7953"
            ],
            [
             0.7777777777777778,
             "#fb9f3a"
            ],
            [
             0.8888888888888888,
             "#fdca26"
            ],
            [
             1,
             "#f0f921"
            ]
           ],
           "sequentialminus": [
            [
             0,
             "#0d0887"
            ],
            [
             0.1111111111111111,
             "#46039f"
            ],
            [
             0.2222222222222222,
             "#7201a8"
            ],
            [
             0.3333333333333333,
             "#9c179e"
            ],
            [
             0.4444444444444444,
             "#bd3786"
            ],
            [
             0.5555555555555556,
             "#d8576b"
            ],
            [
             0.6666666666666666,
             "#ed7953"
            ],
            [
             0.7777777777777778,
             "#fb9f3a"
            ],
            [
             0.8888888888888888,
             "#fdca26"
            ],
            [
             1,
             "#f0f921"
            ]
           ]
          },
          "colorway": [
           "#636efa",
           "#EF553B",
           "#00cc96",
           "#ab63fa",
           "#FFA15A",
           "#19d3f3",
           "#FF6692",
           "#B6E880",
           "#FF97FF",
           "#FECB52"
          ],
          "font": {
           "color": "#2a3f5f"
          },
          "geo": {
           "bgcolor": "white",
           "lakecolor": "white",
           "landcolor": "#E5ECF6",
           "showlakes": true,
           "showland": true,
           "subunitcolor": "white"
          },
          "hoverlabel": {
           "align": "left"
          },
          "hovermode": "closest",
          "mapbox": {
           "style": "light"
          },
          "paper_bgcolor": "white",
          "plot_bgcolor": "#E5ECF6",
          "polar": {
           "angularaxis": {
            "gridcolor": "white",
            "linecolor": "white",
            "ticks": ""
           },
           "bgcolor": "#E5ECF6",
           "radialaxis": {
            "gridcolor": "white",
            "linecolor": "white",
            "ticks": ""
           }
          },
          "scene": {
           "xaxis": {
            "backgroundcolor": "#E5ECF6",
            "gridcolor": "white",
            "gridwidth": 2,
            "linecolor": "white",
            "showbackground": true,
            "ticks": "",
            "zerolinecolor": "white"
           },
           "yaxis": {
            "backgroundcolor": "#E5ECF6",
            "gridcolor": "white",
            "gridwidth": 2,
            "linecolor": "white",
            "showbackground": true,
            "ticks": "",
            "zerolinecolor": "white"
           },
           "zaxis": {
            "backgroundcolor": "#E5ECF6",
            "gridcolor": "white",
            "gridwidth": 2,
            "linecolor": "white",
            "showbackground": true,
            "ticks": "",
            "zerolinecolor": "white"
           }
          },
          "shapedefaults": {
           "line": {
            "color": "#2a3f5f"
           }
          },
          "ternary": {
           "aaxis": {
            "gridcolor": "white",
            "linecolor": "white",
            "ticks": ""
           },
           "baxis": {
            "gridcolor": "white",
            "linecolor": "white",
            "ticks": ""
           },
           "bgcolor": "#E5ECF6",
           "caxis": {
            "gridcolor": "white",
            "linecolor": "white",
            "ticks": ""
           }
          },
          "title": {
           "x": 0.05
          },
          "xaxis": {
           "automargin": true,
           "gridcolor": "white",
           "linecolor": "white",
           "ticks": "",
           "title": {
            "standoff": 15
           },
           "zerolinecolor": "white",
           "zerolinewidth": 2
          },
          "yaxis": {
           "automargin": true,
           "gridcolor": "white",
           "linecolor": "white",
           "ticks": "",
           "title": {
            "standoff": 15
           },
           "zerolinecolor": "white",
           "zerolinewidth": 2
          }
         }
        },
        "title": {
         "text": "Função de Transferência do Filtro Ativo"
        },
        "xaxis": {
         "anchor": "y",
         "domain": [
          0,
          0.94
         ],
         "gridcolor": "lightgray",
         "title": {
          "text": "Frequência (Hz)"
         },
         "type": "log"
        },
        "yaxis": {
         "anchor": "x",
         "domain": [
          0,
          1
         ],
         "gridcolor": "lightgray",
         "title": {
          "text": "Ganho (dB)"
         }
        },
        "yaxis2": {
         "anchor": "x",
         "overlaying": "y",
         "side": "right",
         "title": {
          "text": "Fase (°)"
         }
        }
       }
      }
     },
     "metadata": {},
     "output_type": "display_data"
    }
   ],
   "source": [
    "# Plotando a Função de Transferência do circuito (Diagrama de Bode)\n",
    "\n",
    "fig = make_subplots(specs=[[dict(secondary_y=True)]])\n",
    "\n",
    "# Parâmetros do Gráfico\n",
    "fig.update_layout(\n",
    "    title='Função de Transferência do Filtro Ativo',\n",
    "    xaxis_title='Frequência (Hz)',\n",
    "    legend_title='Curvas',\n",
    "    plot_bgcolor='white',\n",
    "    font=dict(\n",
    "        family='Arial',\n",
    "        size=15,\n",
    "        color='black'\n",
    "    ),\n",
    "    xaxis=dict(\n",
    "        gridcolor='lightgray'\n",
    "    ),\n",
    "    yaxis=dict(\n",
    "        gridcolor='lightgray'\n",
    "    )\n",
    ")\n",
    "\n",
    "fig.update_xaxes(type='log')\n",
    "\n",
    "fig.update_yaxes(title_text='Ganho (dB)',\n",
    "                 secondary_y=False)\n",
    "\n",
    "fig.update_yaxes(title_text='Fase (°)', \n",
    "                 secondary_y=True)\n",
    "\n",
    "MF_HP_A = signal.TransferFunction([-2.2, 0, 0], [1, 50.15*1e3, 2.51*1e9]) # Função de Transferência Atviva\n",
    "\n",
    "w_a, ganho_a, fase_a = signal.bode(MF_HP_A)  # Retorna a frequência complexa w, a magnitude e a fase da função de transferência\n",
    "freq_a = w_a/(2*np.pi) # Conversão de rad/s para Hz\n",
    "\n",
    "fig.add_trace(go.Scatter(\n",
    "    name='Ganho Ativo',\n",
    "    mode='lines', \n",
    "    line_color='royalblue',\n",
    "    x=freq_a, \n",
    "    y=ganho_a\n",
    "    ),\n",
    "    secondary_y=False\n",
    ")\n",
    "\n",
    "\n",
    "fig.add_trace(go.Scatter(\n",
    "    name='Fase Ativa',\n",
    "    mode='lines', \n",
    "    line_color='orange',\n",
    "    x=freq_a, \n",
    "    y=fase_a\n",
    "    ),\n",
    "    secondary_y=True    \n",
    ")\n",
    "\n",
    "fig.add_vline(x=8*1e3, line_width=1, line_dash='dash', line_color='crimson')\n",
    "\n",
    "fig.show()"
   ]
  },
  {
   "cell_type": "markdown",
   "metadata": {},
   "source": [
    "## Questão 2\n",
    "\n",
    "Para efeitos comparativos, plote a função de transferência do circuito junto com o **Filtro Passivo** de igual característica.\n",
    "\n",
    "---\n",
    "\n",
    "### Memorial de Cálculo do Filtro Passivo\n",
    "\n",
    "Para isso, devemos encontrar a função de transferência de um filtro passivo passa-alta, com frequência de corte $\\omega_c = 8 \\text{ kHz}$. Escolhendo um circuito RC, a função de transferência do filtro é da forma: \n",
    "\n",
    "$$ H(s) = \\frac{sRC}{1+sRC}$$\n",
    "\n",
    "e sua frequência de corte $\\omega_c$ igual a: \n",
    "\n",
    "$$ \\omega_c = \\frac{1}{RC}$$\n",
    "\n",
    "Escolhendo $R = 1\\text{ k}\\Omega $ , o capacitor $C$ deve ser igual a: \n",
    "\n",
    "$$ 8\\cdot 10^3 = \\frac{1}{1\\cdot 10^3 \\cdot C} $$\n",
    "$$ C = 125 \\text{ nF}$$\n",
    "\n",
    "A função de transferência do filtro passivo será: \n",
    "\n",
    "$$ H(s) = \\frac{s125\\cdot10^{-6}}{s125\\cdot10^{-6}+1}$$\n",
    "\n",
    "---"
   ]
  },
  {
   "cell_type": "code",
   "execution_count": 276,
   "metadata": {},
   "outputs": [
    {
     "data": {
      "application/vnd.plotly.v1+json": {
       "config": {
        "plotlyServerURL": "https://plot.ly"
       },
       "data": [
        {
         "line": {
          "color": "royalblue"
         },
         "mode": "lines",
         "name": "Ganho Ativo",
         "type": "scatter",
         "x": [
          0.0015915494309189536,
          0.0019170269240387297,
          0.002309065716776053,
          0.0027812778305469385,
          0.003350058993337053,
          0.004035157917550251,
          0.004860361997192533,
          0.005854323232557652,
          0.007051553059434932,
          0.008493620624412019,
          0.010230596111719286,
          0.012322789235523606,
          0.014842843260051001,
          0.017878257254237636,
          0.02153442415638649,
          0.025938290133801757,
          0.031242762294423663,
          0.0376320177910969,
          0.04532789865645768,
          0.05459761440419458,
          0.06576301983953627,
          0.07921179021482994,
          0.09541088174399862,
          0.11492274483985838,
          0.13842485301586605,
          0.16673322551741226,
          0.20083076041448902,
          0.24190136191211536,
          0.2913710468165639,
          0.3509574574194583,
          0.4227294999419584,
          0.5091791792519136,
          0.6133081240349911,
          0.7387318066696192,
          0.8898050764353228,
          1.0717733647065828,
          1.2909548121441445,
          1.5549596415417335,
          1.8729543931965453,
          2.2559801973484785,
          2.7173361344599485,
          3.273040994030123,
          3.942389464721403,
          4.748622067335856,
          5.719732091457017,
          6.889437553491747,
          8.298351923572612,
          9.995394270256488,
          12.039487784806278,
          14.501605659701525,
          17.467235356547285,
          21.039346825494597,
          25.341967736040594,
          30.524489855184704,
          36.7668560951633,
          44.285808330809346,
          53.34241291768179,
          64.25112520529345,
          77.39070777538616,
          93.21738149858562,
          112.28066602869977,
          135.24245973418303,
          162.9000215431291,
          196.21365265693112,
          236.34003927238032,
          284.6724140084815,
          342.8889304872301,
          413.0109306874158,
          497.4731281785674,
          599.2081440746948,
          721.7483308898652,
          869.3484197327089,
          1047.1332492864246,
          1261.275705888182,
          1519.2110529847082,
          1829.8950917203556,
          2204.115116279336,
          2654.864460696355,
          3197.793641815985,
          3851.753762584375,
          4639.45104323797,
          5588.235206437431,
          6731.04908995266,
          8107.572458503626,
          9765.599729172207,
          11762.699446538143,
          14168.213126355198,
          17065.662869835804,
          20555.65134358006,
          24759.3548156674,
          29822.730529994686,
          35921.58450356224,
          43267.67570624578,
          52116.06856694189,
          62773.989093251024,
          75611.49209898697,
          91074.30991747866,
          109699.32872222869,
          132133.22980993625,
          159154.94309189534
         ],
         "xaxis": "x",
         "y": [
          -261.1450208131765,
          -257.91269758085315,
          -254.68037434852982,
          -251.44805111620641,
          -248.21572788388295,
          -244.98340465155937,
          -241.75108141923562,
          -238.51875818691167,
          -235.28643495458738,
          -232.05411172226263,
          -228.82178848993718,
          -225.58946525761073,
          -222.35714202528283,
          -219.12481879295282,
          -215.89249556061975,
          -212.6601723282823,
          -209.42784909593837,
          -206.19552586358512,
          -202.9632026312184,
          -199.730879398832,
          -196.49855616641716,
          -193.266232933961,
          -190.03390970144494,
          -186.80158646884195,
          -183.5692632361128,
          -180.33694000320068,
          -177.10461677002303,
          -173.87229353646023,
          -170.6399703023386,
          -167.40764706740617,
          -164.17532383129748,
          -160.94300059348214,
          -157.71067735319085,
          -154.4783541093073,
          -151.24603086021204,
          -148.01370760355545,
          -144.78138433592872,
          -141.54906105238612,
          -138.31673774575236,
          -135.08441440561728,
          -131.85209101687755,
          -128.61976755762075,
          -125.38744399605582,
          -122.15512028605926,
          -118.92279636071392,
          -115.69047212293447,
          -112.45814743186683,
          -109.2258220831561,
          -105.99349578031888,
          -102.76116809320945,
          -99.52883839776236,
          -96.2965057885703,
          -93.06416895205223,
          -89.83182598244797,
          -86.59947411487016,
          -83.36710933803397,
          -80.13472583244804,
          -76.90231515544029,
          -73.66986505900881,
          -70.43735777523149,
          -67.20476752975189,
          -63.972056936512054,
          -60.73917177184633,
          -57.50603340253191,
          -54.2725278211677,
          -51.03848978268236,
          -47.803679882776066,
          -44.56775150105297,
          -41.33020326261217,
          -38.09031096686975,
          -34.847030756270215,
          -31.59886280084041,
          -28.343662647994677,
          -25.07838777782018,
          -21.798775810455222,
          -18.498984496885257,
          -15.171326305982085,
          -11.806524282297982,
          -8.395742451676469,
          -4.937933898193256,
          -1.4619437754285538,
          1.9164104229196255,
          4.892924890377964,
          6.9796412169009265,
          7.93243468735138,
          8.083050970942852,
          7.904057319338573,
          7.658783279204365,
          7.440938985252862,
          7.271181399230341,
          7.146065853469966,
          7.056367094057129,
          6.99302204624607,
          6.948679269028255,
          6.917804717016137,
          6.896380628803426,
          6.881547044109151,
          6.871291541311683,
          6.864208101078829,
          6.85931881448533
         ],
         "yaxis": "y"
        },
        {
         "line": {
          "color": "orange"
         },
         "mode": "lines",
         "name": "Fase Ativa",
         "type": "scatter",
         "x": [
          0.0015915494309189536,
          0.0019170269240387297,
          0.002309065716776053,
          0.0027812778305469385,
          0.003350058993337053,
          0.004035157917550251,
          0.004860361997192533,
          0.005854323232557652,
          0.007051553059434932,
          0.008493620624412019,
          0.010230596111719286,
          0.012322789235523606,
          0.014842843260051001,
          0.017878257254237636,
          0.02153442415638649,
          0.025938290133801757,
          0.031242762294423663,
          0.0376320177910969,
          0.04532789865645768,
          0.05459761440419458,
          0.06576301983953627,
          0.07921179021482994,
          0.09541088174399862,
          0.11492274483985838,
          0.13842485301586605,
          0.16673322551741226,
          0.20083076041448902,
          0.24190136191211536,
          0.2913710468165639,
          0.3509574574194583,
          0.4227294999419584,
          0.5091791792519136,
          0.6133081240349911,
          0.7387318066696192,
          0.8898050764353228,
          1.0717733647065828,
          1.2909548121441445,
          1.5549596415417335,
          1.8729543931965453,
          2.2559801973484785,
          2.7173361344599485,
          3.273040994030123,
          3.942389464721403,
          4.748622067335856,
          5.719732091457017,
          6.889437553491747,
          8.298351923572612,
          9.995394270256488,
          12.039487784806278,
          14.501605659701525,
          17.467235356547285,
          21.039346825494597,
          25.341967736040594,
          30.524489855184704,
          36.7668560951633,
          44.285808330809346,
          53.34241291768179,
          64.25112520529345,
          77.39070777538616,
          93.21738149858562,
          112.28066602869977,
          135.24245973418303,
          162.9000215431291,
          196.21365265693112,
          236.34003927238032,
          284.6724140084815,
          342.8889304872301,
          413.0109306874158,
          497.4731281785674,
          599.2081440746948,
          721.7483308898652,
          869.3484197327089,
          1047.1332492864246,
          1261.275705888182,
          1519.2110529847082,
          1829.8950917203556,
          2204.115116279336,
          2654.864460696355,
          3197.793641815985,
          3851.753762584375,
          4639.45104323797,
          5588.235206437431,
          6731.04908995266,
          8107.572458503626,
          9765.599729172207,
          11762.699446538143,
          14168.213126355198,
          17065.662869835804,
          20555.65134358006,
          24759.3548156674,
          29822.730529994686,
          35921.58450356224,
          43267.67570624578,
          52116.06856694189,
          62773.989093251024,
          75611.49209898697,
          91074.30991747866,
          109699.32872222869,
          132133.22980993625,
          159154.94309189534
         ],
         "xaxis": "x",
         "y": [
          -0.000011447742400721733,
          -0.000013788846249640063,
          -0.00001660871412377577,
          -0.00002000525496123446,
          -0.00002409640042458736,
          -0.00002902419961891022,
          -0.00003495975119415766,
          -0.000042109144079933795,
          -0.000050720613121555603,
          -0.00006109315806902408,
          -0.00007358692517975398,
          -0.00008863571189581557,
          -0.00010676202877194394,
          -0.00012859524162115016,
          -0.0001548934237933427,
          -0.00018656967732229375,
          -0.00022472383684035547,
          -0.0002706806570559929,
          -0.00032603580970569704,
          -0.0003927112870454613,
          -0.0004730221355524999,
          -0.0005697568369053921,
          -0.0006862741271595256,
          -0.0008266196157871909,
          -0.0009956662537251265,
          -0.0011992835276366368,
          -0.001444541255002017,
          -0.0017399550560312073,
          -0.0020957820254599115,
          -0.0025243768702892717,
          -0.0030406208789794673,
          -0.003662438616406311,
          -0.004411420284843094,
          -0.005313571360101685,
          -0.006400215531154681,
          -0.007709082294519711,
          -0.009285616966267179,
          -0.011184558597382158,
          -0.013471840580607124,
          -0.016226879941962907,
          -0.0195453348072186,
          -0.02354242579177455,
          -0.02835693664708205,
          -0.034156033089326146,
          -0.04114106715838162,
          -0.049554568698378834,
          -0.05968866681242057,
          -0.07189523386947108,
          -0.08659810458175939,
          -0.10430779494941594,
          -0.12563923306850422,
          -0.15133311907510957,
          -0.18228165873126834,
          -0.21955956915785557,
          -0.26446144201703853,
          -0.3185467767254096,
          -0.3836942740219684,
          -0.4621673217231171,
          -0.5566930280198384,
          -0.6705576890912486,
          -0.8077222551180883,
          -0.9729622396795179,
          -1.1720376924089866,
          -1.4119004691976778,
          -1.7009483277605708,
          -2.0493387506942713,
          -2.469380536468002,
          -2.9760292769522425,
          -3.587525902363141,
          -4.3262391084001335,
          -5.21980904191488,
          -6.302752488399597,
          -7.618799575378984,
          -9.2244264053928,
          -11.194396769389217,
          -13.630757765427463,
          -16.677878168035285,
          -20.54813095732836,
          -25.565949013348252,
          -32.24047424965305,
          -41.364929384286434,
          -54.04663206844482,
          -71.21658476788035,
          -91.9061774558966,
          -112.1867681589129,
          -128.53819284328523,
          -140.4950352204491,
          -149.10717980391942,
          -155.43634801484274,
          -160.21783511789988,
          -163.9208737387422,
          -166.84544944654297,
          -169.18918176136896,
          -171.08736313435125,
          -172.63627127851007,
          -173.90686010587694,
          -174.9529888207329,
          -175.81652107272657,
          -176.53059655729584,
          -177.12180974756922
         ],
         "yaxis": "y2"
        },
        {
         "line": {
          "color": "darkblue"
         },
         "mode": "lines",
         "name": "Ganho Passivo",
         "type": "scatter",
         "x": [
          0.0015915494309189536,
          0.0018729543931965441,
          0.0022041151162793334,
          0.002593829013380176,
          0.0030524489855184704,
          0.0035921584503562213,
          0.004227294999419584,
          0.004974731281785664,
          0.005854323232557652,
          0.006889437553491739,
          0.008107572458503617,
          0.009541088174399859,
          0.011228066602869971,
          0.013213322980993614,
          0.015549596415417326,
          0.01829895091720352,
          0.02153442415638648,
          0.025341967736040565,
          0.02982273052999464,
          0.03509574574194583,
          0.04130109306874155,
          0.04860361997192534,
          0.05719732091457014,
          0.06731049089952645,
          0.0792117902148299,
          0.09321738149858547,
          0.10969932872222847,
          0.1290954812144144,
          0.15192110529847067,
          0.17878257254237637,
          0.21039346825494556,
          0.2475935481566735,
          0.2913710468165636,
          0.34288893048722935,
          0.4035157917550251,
          0.4748622067335851,
          0.5588235206437425,
          0.6576301983953619,
          0.7739070777538617,
          0.9107430991747858,
          1.0717733647065815,
          1.2612757058881794,
          1.4842843260051,
          1.7467235356547266,
          2.0555651343580035,
          2.419013619121151,
          2.846724140084815,
          3.350058993337051,
          3.942389464721399,
          4.639451043237961,
          5.459761440419452,
          6.425112520529339,
          7.561149209898682,
          8.898050764353217,
          10.471332492864237,
          12.322789235523608,
          14.501605659701513,
          17.06566286983577,
          20.0830760414489,
          23.634003927237984,
          27.81277830546937,
          32.73040994030119,
          38.51753762584375,
          45.327898656457634,
          53.342412917681685,
          62.7739890932509,
          73.87318066696177,
          86.93484197327072,
          102.30596111719282,
          120.39487784806276,
          141.68213126355167,
          166.7332255174121,
          196.21365265693072,
          230.9065716776054,
          271.7336134459943,
          319.7793641815979,
          376.3201779109688,
          442.85808330809346,
          521.1606856694178,
          613.3081240349904,
          721.7483308898637,
          849.3620624412006,
          999.5394270256468,
          1176.2699446538118,
          1384.2485301586605,
          1629.0002154312876,
          1917.0269240387279,
          2255.980197348476,
          2654.864460696355,
          3124.276229442362,
          3676.6856095163225,
          4326.767570624568,
          5091.791792519136,
          5992.081440746936,
          7051.553059434925,
          8298.351923572603,
          9765.599729172187,
          11492.27448398582,
          13524.245973418276,
          15915.494309189535
         ],
         "xaxis": "x",
         "y": [
          -118.06179973984567,
          -116.64765832570686,
          -115.23351691156905,
          -113.81937549743265,
          -112.40523408329818,
          -110.99109266916636,
          -109.57695125503825,
          -108.16280984091527,
          -106.74866842679938,
          -105.33452701269329,
          -103.92038559860083,
          -102.50624418452718,
          -101.09210277047964,
          -99.67796135646822,
          -98.26381994250681,
          -96.8496785286147,
          -95.43553711481856,
          -94.0213957011553,
          -92.60725428767606,
          -91.1931128744517,
          -89.77897146158028,
          -88.36483004919769,
          -86.95068863749202,
          -85.53654722672385,
          -84.122405817254,
          -82.70826440958217,
          -81.29412300440039,
          -79.87998160266706,
          -78.46584020570943,
          -77.0516988153656,
          -75.63755743418112,
          -74.22341606568133,
          -72.80927471474838,
          -71.39513338814352,
          -69.98099209523025,
          -68.56685084897606,
          -67.15270966733935,
          -65.73856857519051,
          -64.3244276069722,
          -62.91028681038352,
          -61.49614625148232,
          -60.08200602175117,
          -58.66786624788284,
          -57.253727105332274,
          -55.83958883708406,
          -54.425451779643524,
          -53.011316399030555,
          -51.59718334062663,
          -50.183053498205624,
          -48.76892810953119,
          -47.35480888874292,
          -45.94069820968653,
          -44.5265993597863,
          -43.112516891593515,
          -41.698457109571805,
          -40.28442874410659,
          -38.870443884676746,
          -37.45651927170252,
          -36.04267808467124,
          -34.628952416691774,
          -33.21538669802787,
          -31.80204243070435,
          -30.38900473275649,
          -28.976391377062576,
          -27.56436526276608,
          -26.15315159817246,
          -24.743061527854362,
          -23.334524530700325,
          -21.928132673185342,
          -20.524700729415564,
          -19.12534723776746,
          -17.731602616324636,
          -16.345551175536997,
          -14.970013565845486,
          -13.608773620412256,
          -12.266846598363202,
          -10.950771451453747,
          -9.668884457913014,
          -8.431493643656573,
          -7.250827778747645,
          -6.140599721838138,
          -5.115040509420657,
          -4.187375672647699,
          -3.367943317675004,
          -2.662416564157864,
          -2.070715503817844,
          -1.587023075482013,
          -1.2008985355993826,
          -0.8990655007579486,
          -0.6672892372681171,
          -0.49188673865612126,
          -0.36067725294050007,
          -0.26340643983052825,
          -0.19178930223184135,
          -0.1393316514268034,
          -0.10105511430360678,
          -0.07320509579533901,
          -0.05298350680806207,
          -0.03832312022751221,
          -0.0277062810119375
         ],
         "yaxis": "y"
        },
        {
         "line": {
          "color": "tomato"
         },
         "mode": "lines",
         "name": "Fase Passiva",
         "type": "scatter",
         "x": [
          0.0015915494309189536,
          0.0018729543931965441,
          0.0022041151162793334,
          0.002593829013380176,
          0.0030524489855184704,
          0.0035921584503562213,
          0.004227294999419584,
          0.004974731281785664,
          0.005854323232557652,
          0.006889437553491739,
          0.008107572458503617,
          0.009541088174399859,
          0.011228066602869971,
          0.013213322980993614,
          0.015549596415417326,
          0.01829895091720352,
          0.02153442415638648,
          0.025341967736040565,
          0.02982273052999464,
          0.03509574574194583,
          0.04130109306874155,
          0.04860361997192534,
          0.05719732091457014,
          0.06731049089952645,
          0.0792117902148299,
          0.09321738149858547,
          0.10969932872222847,
          0.1290954812144144,
          0.15192110529847067,
          0.17878257254237637,
          0.21039346825494556,
          0.2475935481566735,
          0.2913710468165636,
          0.34288893048722935,
          0.4035157917550251,
          0.4748622067335851,
          0.5588235206437425,
          0.6576301983953619,
          0.7739070777538617,
          0.9107430991747858,
          1.0717733647065815,
          1.2612757058881794,
          1.4842843260051,
          1.7467235356547266,
          2.0555651343580035,
          2.419013619121151,
          2.846724140084815,
          3.350058993337051,
          3.942389464721399,
          4.639451043237961,
          5.459761440419452,
          6.425112520529339,
          7.561149209898682,
          8.898050764353217,
          10.471332492864237,
          12.322789235523608,
          14.501605659701513,
          17.06566286983577,
          20.0830760414489,
          23.634003927237984,
          27.81277830546937,
          32.73040994030119,
          38.51753762584375,
          45.327898656457634,
          53.342412917681685,
          62.7739890932509,
          73.87318066696177,
          86.93484197327072,
          102.30596111719282,
          120.39487784806276,
          141.68213126355167,
          166.7332255174121,
          196.21365265693072,
          230.9065716776054,
          271.7336134459943,
          319.7793641815979,
          376.3201779109688,
          442.85808330809346,
          521.1606856694178,
          613.3081240349904,
          721.7483308898637,
          849.3620624412006,
          999.5394270256468,
          1176.2699446538118,
          1384.2485301586605,
          1629.0002154312876,
          1917.0269240387279,
          2255.980197348476,
          2654.864460696355,
          3124.276229442362,
          3676.6856095163225,
          4326.767570624568,
          5091.791792519136,
          5992.081440746936,
          7051.553059434925,
          8298.351923572603,
          9765.599729172187,
          11492.27448398582,
          13524.245973418276,
          15915.494309189535
         ],
         "xaxis": "x",
         "y": [
          89.9999283802756,
          89.9999157170523,
          89.99990081481978,
          89.9998832776944,
          89.99986263979567,
          89.99983835286974,
          89.99980977172504,
          89.99977613709231,
          89.99973655545453,
          89.9996899753101,
          89.99963515923936,
          89.99957065103217,
          89.99949473700288,
          89.99940540046588,
          89.99930026816135,
          89.99917654720878,
          89.99903095091305,
          89.99885961145203,
          89.9986579771264,
          89.99842069144202,
          89.99814145081255,
          89.99781283710232,
          89.99742612056058,
          89.99697102791234,
          89.99643546944493,
          89.99580521784006,
          89.99506353021972,
          89.99419070336526,
          89.99316355029401,
          89.99195478428847,
          89.9905322940147,
          89.98885829047339,
          89.98688830312214,
          89.98456999850109,
          89.98184178997897,
          89.97863120168776,
          89.97485294318575,
          89.9704066437038,
          89.96517418578989,
          89.95901656752685,
          89.95177020997968,
          89.94324261180029,
          89.93320723558651,
          89.92139749020645,
          89.90749964931835,
          89.89114451811353,
          89.87189762715096,
          89.84924769317753,
          89.8225930410406,
          89.79122562704448,
          89.75431224105026,
          89.71087239075725,
          89.65975228523467,
          89.59959423403302,
          89.52880066111625,
          89.44549179745515,
          89.34745596066688,
          89.23209115347589,
          89.09633651523725,
          88.93659194506463,
          88.74862398851337,
          88.52745585736136,
          88.26723926205364,
          87.96110562895716,
          87.60099433565341,
          87.17745597091485,
          86.6794295478535,
          86.09399444957954,
          85.406101268336,
          84.59829154075048,
          83.6504260731988,
          82.53945707347053,
          81.2393032696612,
          79.72092256857621,
          77.95272582561702,
          75.9015367376757,
          73.53436633980216,
          70.8213069111455,
          67.7397995530033,
          64.2802982429508,
          60.45284177389618,
          56.29324662156618,
          51.86679488202374,
          47.26700456755419,
          42.608022829726075,
          38.01146653779094,
          33.5910810227412,
          29.43969551171778,
          25.62178928584936,
          22.172420868672674,
          19.101015803847627,
          16.3975943140773,
          14.03933162703782,
          11.996187883040045,
          10.235136905962701,
          8.723026161244377,
          7.428325406908568,
          6.322068654813689,
          5.378256383728254,
          4.573921259900861
         ],
         "yaxis": "y2"
        }
       ],
       "layout": {
        "font": {
         "color": "black",
         "family": "Arial",
         "size": 15
        },
        "legend": {
         "title": {
          "text": "Curvas"
         }
        },
        "plot_bgcolor": "white",
        "shapes": [
         {
          "line": {
           "color": "crimson",
           "dash": "dash",
           "width": 1
          },
          "type": "line",
          "x0": 8000,
          "x1": 8000,
          "xref": "x",
          "y0": 0,
          "y1": 1,
          "yref": "y domain"
         }
        ],
        "template": {
         "data": {
          "bar": [
           {
            "error_x": {
             "color": "#2a3f5f"
            },
            "error_y": {
             "color": "#2a3f5f"
            },
            "marker": {
             "line": {
              "color": "#E5ECF6",
              "width": 0.5
             },
             "pattern": {
              "fillmode": "overlay",
              "size": 10,
              "solidity": 0.2
             }
            },
            "type": "bar"
           }
          ],
          "barpolar": [
           {
            "marker": {
             "line": {
              "color": "#E5ECF6",
              "width": 0.5
             },
             "pattern": {
              "fillmode": "overlay",
              "size": 10,
              "solidity": 0.2
             }
            },
            "type": "barpolar"
           }
          ],
          "carpet": [
           {
            "aaxis": {
             "endlinecolor": "#2a3f5f",
             "gridcolor": "white",
             "linecolor": "white",
             "minorgridcolor": "white",
             "startlinecolor": "#2a3f5f"
            },
            "baxis": {
             "endlinecolor": "#2a3f5f",
             "gridcolor": "white",
             "linecolor": "white",
             "minorgridcolor": "white",
             "startlinecolor": "#2a3f5f"
            },
            "type": "carpet"
           }
          ],
          "choropleth": [
           {
            "colorbar": {
             "outlinewidth": 0,
             "ticks": ""
            },
            "type": "choropleth"
           }
          ],
          "contour": [
           {
            "colorbar": {
             "outlinewidth": 0,
             "ticks": ""
            },
            "colorscale": [
             [
              0,
              "#0d0887"
             ],
             [
              0.1111111111111111,
              "#46039f"
             ],
             [
              0.2222222222222222,
              "#7201a8"
             ],
             [
              0.3333333333333333,
              "#9c179e"
             ],
             [
              0.4444444444444444,
              "#bd3786"
             ],
             [
              0.5555555555555556,
              "#d8576b"
             ],
             [
              0.6666666666666666,
              "#ed7953"
             ],
             [
              0.7777777777777778,
              "#fb9f3a"
             ],
             [
              0.8888888888888888,
              "#fdca26"
             ],
             [
              1,
              "#f0f921"
             ]
            ],
            "type": "contour"
           }
          ],
          "contourcarpet": [
           {
            "colorbar": {
             "outlinewidth": 0,
             "ticks": ""
            },
            "type": "contourcarpet"
           }
          ],
          "heatmap": [
           {
            "colorbar": {
             "outlinewidth": 0,
             "ticks": ""
            },
            "colorscale": [
             [
              0,
              "#0d0887"
             ],
             [
              0.1111111111111111,
              "#46039f"
             ],
             [
              0.2222222222222222,
              "#7201a8"
             ],
             [
              0.3333333333333333,
              "#9c179e"
             ],
             [
              0.4444444444444444,
              "#bd3786"
             ],
             [
              0.5555555555555556,
              "#d8576b"
             ],
             [
              0.6666666666666666,
              "#ed7953"
             ],
             [
              0.7777777777777778,
              "#fb9f3a"
             ],
             [
              0.8888888888888888,
              "#fdca26"
             ],
             [
              1,
              "#f0f921"
             ]
            ],
            "type": "heatmap"
           }
          ],
          "heatmapgl": [
           {
            "colorbar": {
             "outlinewidth": 0,
             "ticks": ""
            },
            "colorscale": [
             [
              0,
              "#0d0887"
             ],
             [
              0.1111111111111111,
              "#46039f"
             ],
             [
              0.2222222222222222,
              "#7201a8"
             ],
             [
              0.3333333333333333,
              "#9c179e"
             ],
             [
              0.4444444444444444,
              "#bd3786"
             ],
             [
              0.5555555555555556,
              "#d8576b"
             ],
             [
              0.6666666666666666,
              "#ed7953"
             ],
             [
              0.7777777777777778,
              "#fb9f3a"
             ],
             [
              0.8888888888888888,
              "#fdca26"
             ],
             [
              1,
              "#f0f921"
             ]
            ],
            "type": "heatmapgl"
           }
          ],
          "histogram": [
           {
            "marker": {
             "pattern": {
              "fillmode": "overlay",
              "size": 10,
              "solidity": 0.2
             }
            },
            "type": "histogram"
           }
          ],
          "histogram2d": [
           {
            "colorbar": {
             "outlinewidth": 0,
             "ticks": ""
            },
            "colorscale": [
             [
              0,
              "#0d0887"
             ],
             [
              0.1111111111111111,
              "#46039f"
             ],
             [
              0.2222222222222222,
              "#7201a8"
             ],
             [
              0.3333333333333333,
              "#9c179e"
             ],
             [
              0.4444444444444444,
              "#bd3786"
             ],
             [
              0.5555555555555556,
              "#d8576b"
             ],
             [
              0.6666666666666666,
              "#ed7953"
             ],
             [
              0.7777777777777778,
              "#fb9f3a"
             ],
             [
              0.8888888888888888,
              "#fdca26"
             ],
             [
              1,
              "#f0f921"
             ]
            ],
            "type": "histogram2d"
           }
          ],
          "histogram2dcontour": [
           {
            "colorbar": {
             "outlinewidth": 0,
             "ticks": ""
            },
            "colorscale": [
             [
              0,
              "#0d0887"
             ],
             [
              0.1111111111111111,
              "#46039f"
             ],
             [
              0.2222222222222222,
              "#7201a8"
             ],
             [
              0.3333333333333333,
              "#9c179e"
             ],
             [
              0.4444444444444444,
              "#bd3786"
             ],
             [
              0.5555555555555556,
              "#d8576b"
             ],
             [
              0.6666666666666666,
              "#ed7953"
             ],
             [
              0.7777777777777778,
              "#fb9f3a"
             ],
             [
              0.8888888888888888,
              "#fdca26"
             ],
             [
              1,
              "#f0f921"
             ]
            ],
            "type": "histogram2dcontour"
           }
          ],
          "mesh3d": [
           {
            "colorbar": {
             "outlinewidth": 0,
             "ticks": ""
            },
            "type": "mesh3d"
           }
          ],
          "parcoords": [
           {
            "line": {
             "colorbar": {
              "outlinewidth": 0,
              "ticks": ""
             }
            },
            "type": "parcoords"
           }
          ],
          "pie": [
           {
            "automargin": true,
            "type": "pie"
           }
          ],
          "scatter": [
           {
            "fillpattern": {
             "fillmode": "overlay",
             "size": 10,
             "solidity": 0.2
            },
            "type": "scatter"
           }
          ],
          "scatter3d": [
           {
            "line": {
             "colorbar": {
              "outlinewidth": 0,
              "ticks": ""
             }
            },
            "marker": {
             "colorbar": {
              "outlinewidth": 0,
              "ticks": ""
             }
            },
            "type": "scatter3d"
           }
          ],
          "scattercarpet": [
           {
            "marker": {
             "colorbar": {
              "outlinewidth": 0,
              "ticks": ""
             }
            },
            "type": "scattercarpet"
           }
          ],
          "scattergeo": [
           {
            "marker": {
             "colorbar": {
              "outlinewidth": 0,
              "ticks": ""
             }
            },
            "type": "scattergeo"
           }
          ],
          "scattergl": [
           {
            "marker": {
             "colorbar": {
              "outlinewidth": 0,
              "ticks": ""
             }
            },
            "type": "scattergl"
           }
          ],
          "scattermapbox": [
           {
            "marker": {
             "colorbar": {
              "outlinewidth": 0,
              "ticks": ""
             }
            },
            "type": "scattermapbox"
           }
          ],
          "scatterpolar": [
           {
            "marker": {
             "colorbar": {
              "outlinewidth": 0,
              "ticks": ""
             }
            },
            "type": "scatterpolar"
           }
          ],
          "scatterpolargl": [
           {
            "marker": {
             "colorbar": {
              "outlinewidth": 0,
              "ticks": ""
             }
            },
            "type": "scatterpolargl"
           }
          ],
          "scatterternary": [
           {
            "marker": {
             "colorbar": {
              "outlinewidth": 0,
              "ticks": ""
             }
            },
            "type": "scatterternary"
           }
          ],
          "surface": [
           {
            "colorbar": {
             "outlinewidth": 0,
             "ticks": ""
            },
            "colorscale": [
             [
              0,
              "#0d0887"
             ],
             [
              0.1111111111111111,
              "#46039f"
             ],
             [
              0.2222222222222222,
              "#7201a8"
             ],
             [
              0.3333333333333333,
              "#9c179e"
             ],
             [
              0.4444444444444444,
              "#bd3786"
             ],
             [
              0.5555555555555556,
              "#d8576b"
             ],
             [
              0.6666666666666666,
              "#ed7953"
             ],
             [
              0.7777777777777778,
              "#fb9f3a"
             ],
             [
              0.8888888888888888,
              "#fdca26"
             ],
             [
              1,
              "#f0f921"
             ]
            ],
            "type": "surface"
           }
          ],
          "table": [
           {
            "cells": {
             "fill": {
              "color": "#EBF0F8"
             },
             "line": {
              "color": "white"
             }
            },
            "header": {
             "fill": {
              "color": "#C8D4E3"
             },
             "line": {
              "color": "white"
             }
            },
            "type": "table"
           }
          ]
         },
         "layout": {
          "annotationdefaults": {
           "arrowcolor": "#2a3f5f",
           "arrowhead": 0,
           "arrowwidth": 1
          },
          "autotypenumbers": "strict",
          "coloraxis": {
           "colorbar": {
            "outlinewidth": 0,
            "ticks": ""
           }
          },
          "colorscale": {
           "diverging": [
            [
             0,
             "#8e0152"
            ],
            [
             0.1,
             "#c51b7d"
            ],
            [
             0.2,
             "#de77ae"
            ],
            [
             0.3,
             "#f1b6da"
            ],
            [
             0.4,
             "#fde0ef"
            ],
            [
             0.5,
             "#f7f7f7"
            ],
            [
             0.6,
             "#e6f5d0"
            ],
            [
             0.7,
             "#b8e186"
            ],
            [
             0.8,
             "#7fbc41"
            ],
            [
             0.9,
             "#4d9221"
            ],
            [
             1,
             "#276419"
            ]
           ],
           "sequential": [
            [
             0,
             "#0d0887"
            ],
            [
             0.1111111111111111,
             "#46039f"
            ],
            [
             0.2222222222222222,
             "#7201a8"
            ],
            [
             0.3333333333333333,
             "#9c179e"
            ],
            [
             0.4444444444444444,
             "#bd3786"
            ],
            [
             0.5555555555555556,
             "#d8576b"
            ],
            [
             0.6666666666666666,
             "#ed7953"
            ],
            [
             0.7777777777777778,
             "#fb9f3a"
            ],
            [
             0.8888888888888888,
             "#fdca26"
            ],
            [
             1,
             "#f0f921"
            ]
           ],
           "sequentialminus": [
            [
             0,
             "#0d0887"
            ],
            [
             0.1111111111111111,
             "#46039f"
            ],
            [
             0.2222222222222222,
             "#7201a8"
            ],
            [
             0.3333333333333333,
             "#9c179e"
            ],
            [
             0.4444444444444444,
             "#bd3786"
            ],
            [
             0.5555555555555556,
             "#d8576b"
            ],
            [
             0.6666666666666666,
             "#ed7953"
            ],
            [
             0.7777777777777778,
             "#fb9f3a"
            ],
            [
             0.8888888888888888,
             "#fdca26"
            ],
            [
             1,
             "#f0f921"
            ]
           ]
          },
          "colorway": [
           "#636efa",
           "#EF553B",
           "#00cc96",
           "#ab63fa",
           "#FFA15A",
           "#19d3f3",
           "#FF6692",
           "#B6E880",
           "#FF97FF",
           "#FECB52"
          ],
          "font": {
           "color": "#2a3f5f"
          },
          "geo": {
           "bgcolor": "white",
           "lakecolor": "white",
           "landcolor": "#E5ECF6",
           "showlakes": true,
           "showland": true,
           "subunitcolor": "white"
          },
          "hoverlabel": {
           "align": "left"
          },
          "hovermode": "closest",
          "mapbox": {
           "style": "light"
          },
          "paper_bgcolor": "white",
          "plot_bgcolor": "#E5ECF6",
          "polar": {
           "angularaxis": {
            "gridcolor": "white",
            "linecolor": "white",
            "ticks": ""
           },
           "bgcolor": "#E5ECF6",
           "radialaxis": {
            "gridcolor": "white",
            "linecolor": "white",
            "ticks": ""
           }
          },
          "scene": {
           "xaxis": {
            "backgroundcolor": "#E5ECF6",
            "gridcolor": "white",
            "gridwidth": 2,
            "linecolor": "white",
            "showbackground": true,
            "ticks": "",
            "zerolinecolor": "white"
           },
           "yaxis": {
            "backgroundcolor": "#E5ECF6",
            "gridcolor": "white",
            "gridwidth": 2,
            "linecolor": "white",
            "showbackground": true,
            "ticks": "",
            "zerolinecolor": "white"
           },
           "zaxis": {
            "backgroundcolor": "#E5ECF6",
            "gridcolor": "white",
            "gridwidth": 2,
            "linecolor": "white",
            "showbackground": true,
            "ticks": "",
            "zerolinecolor": "white"
           }
          },
          "shapedefaults": {
           "line": {
            "color": "#2a3f5f"
           }
          },
          "ternary": {
           "aaxis": {
            "gridcolor": "white",
            "linecolor": "white",
            "ticks": ""
           },
           "baxis": {
            "gridcolor": "white",
            "linecolor": "white",
            "ticks": ""
           },
           "bgcolor": "#E5ECF6",
           "caxis": {
            "gridcolor": "white",
            "linecolor": "white",
            "ticks": ""
           }
          },
          "title": {
           "x": 0.05
          },
          "xaxis": {
           "automargin": true,
           "gridcolor": "white",
           "linecolor": "white",
           "ticks": "",
           "title": {
            "standoff": 15
           },
           "zerolinecolor": "white",
           "zerolinewidth": 2
          },
          "yaxis": {
           "automargin": true,
           "gridcolor": "white",
           "linecolor": "white",
           "ticks": "",
           "title": {
            "standoff": 15
           },
           "zerolinecolor": "white",
           "zerolinewidth": 2
          }
         }
        },
        "title": {
         "text": "Função de Transferência do Filtro Ativo"
        },
        "xaxis": {
         "anchor": "y",
         "domain": [
          0,
          0.94
         ],
         "gridcolor": "lightgray",
         "range": [
          0,
          4.176091259055681
         ],
         "title": {
          "text": "Frequência (Hz)"
         },
         "type": "log"
        },
        "yaxis": {
         "anchor": "x",
         "domain": [
          0,
          1
         ],
         "gridcolor": "lightgray",
         "title": {
          "text": "Ganho (dB)"
         }
        },
        "yaxis2": {
         "anchor": "x",
         "overlaying": "y",
         "side": "right",
         "title": {
          "text": "Fase (°)"
         }
        }
       }
      }
     },
     "metadata": {},
     "output_type": "display_data"
    }
   ],
   "source": [
    "# Comparação das duas Funções de Transferência\n",
    "\n",
    "fig.update_xaxes(range=[0,np.log10(15*1e3)])\n",
    "\n",
    "MF_HP_P = signal.TransferFunction([125*1e-6, 0], [125*1e-6, 1]) # Função de Transferência Passiva\n",
    "\n",
    "w_p, ganho_p, fase_p = signal.bode(MF_HP_P)  # Retorna a frequência complexa w, a magnitude e a fase da função de transferência\n",
    "freq_p = w_p/(2*np.pi) # Conversão de rad/s para Hz\n",
    "\n",
    "fig.add_trace(go.Scatter(\n",
    "    name='Ganho Passivo',\n",
    "    mode='lines', \n",
    "    line_color='darkblue',\n",
    "    x=freq_p, \n",
    "    y=ganho_p\n",
    "    ),\n",
    "    secondary_y=False\n",
    ")\n",
    "\n",
    "\n",
    "fig.add_trace(go.Scatter(\n",
    "    name='Fase Passiva',\n",
    "    mode='lines', \n",
    "    line_color='tomato',\n",
    "    x=freq_p, \n",
    "    y=fase_p\n",
    "    ),\n",
    "    secondary_y=True    \n",
    ")\n",
    "\n",
    "fig.show()"
   ]
  },
  {
   "cell_type": "markdown",
   "metadata": {},
   "source": [
    "## Questão 3\n",
    "\n",
    "Realize a montagem do circuito em placa protoboard. Para tanto, utilize os componentes adequados, assim como as ligaçõoes e adequações necessárias para utilização do(s) amplificador(es) operacional(ais) conforme indicado no *datasheet*.\n",
    "\n",
    "---\n",
    "\n",
    "### Ajuste de Valores Nominais\n",
    "\n",
    "Ajustando os valores encontrados para componentes encontrados comercialmente, temos: \n",
    "\n",
    "$$C_1 = C_3 = 68 \\text{ nF}$$\n",
    "$$C_4 = 33 \\text{ nF}$$\n",
    "$$R_2 = (68 + 56) \\space \\Omega$$\n",
    "$$R_5 = 1.6 \\text{k} \\space \\Omega$$\n",
    "\n",
    "---\n",
    "\n",
    "### Montagem no Ambiente Virtual - LTSpice\n",
    "\n",
    "---"
   ]
  }
 ],
 "metadata": {
  "kernelspec": {
   "display_name": "Python 3",
   "language": "python",
   "name": "python3"
  },
  "language_info": {
   "codemirror_mode": {
    "name": "ipython",
    "version": 3
   },
   "file_extension": ".py",
   "mimetype": "text/x-python",
   "name": "python",
   "nbconvert_exporter": "python",
   "pygments_lexer": "ipython3",
   "version": "3.11.0"
  }
 },
 "nbformat": 4,
 "nbformat_minor": 2
}
