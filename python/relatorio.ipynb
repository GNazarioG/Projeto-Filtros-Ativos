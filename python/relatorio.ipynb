{
 "cells": [
  {
   "cell_type": "markdown",
   "metadata": {},
   "source": [
    "<p align = \"center\">\n",
    "    UNIVERSIDADE FEDERAL DE CAMPINA GRANDE <br>\n",
    "    CENTRO DE ENGENHARIA ELÉTRICA E INFORMÁTICA <br>\n",
    "    UNIDADE ACADÊMICA DE ENGENHARIA ELÉTRICA <br>\n",
    "    DISCIPLINA: CIRCUITOS ELÉTRICOS 2 <br>\n",
    "</p>\n",
    "\n",
    "<h2 align = \"center\"> Projeto de Filtro Ativo</h2>\n",
    "\n",
    "\n",
    "\n",
    "<p> Este projeto tem como objetivo realizar o projeto e dimensionamento de um Filtro Ativo. </p>\n",
    "<p> Projetistas: </p>\n",
    "<ul> \n",
    "    <li> André Cadena de Oliveira\n",
    "    <li> Fabio Marçal\n",
    "    <li> Gabriel Nazário\n",
    "    <li> Lorenzo Carrera de Oliveira\n",
    "    <li> Mateus Pincho de Oliveira\n",
    "</ul> \n",
    "\n",
    "\n",
    "---\n",
    " "
   ]
  },
  {
   "cell_type": "markdown",
   "metadata": {},
   "source": [
    "## Instruções\n",
    "Projete um filtro **Multiple Feedback passa-alta** com as seguintes características: \n",
    "- Frequência de corte = $8 \\text{ kHz}$\n",
    "- Ganho na faixa de passagem: $2.2 \\text{ Vo/Vi}$\n",
    "\n",
    "Caso não encontre os dispositivos eletrônicos adequados para projeto do filtro acima\n",
    "indicado, realize o projeto do filtro mais próximo possível, de acordo com os componentes\n",
    "encontrados, e indique a escolha com justificativa.\n",
    "\n",
    "---\n",
    "\n",
    "## Questão 01\n",
    "Apresente a função de transferência do circuito e o memorial de cálculo para a escolha dos componentes\n",
    "\n",
    "<p align = \"center\">\n",
    "    <img src = '../docs/schematic.jpeg'>\n",
    "</p>"
   ]
  },
  {
   "cell_type": "markdown",
   "metadata": {},
   "source": [
    "Sendo a frequência de corte deseja de $8 \\text{ kHz}$, então $w_0 = 2\\pi\\cdot8\\cdot 10^3 = 50.26 \\text{ krad/s}$. O ganho $H$ do filtro é especificado nas instruções e deve ser igual a $2.2$\n",
    "\n",
    "Escolhendo $C_1$ como $68 \\text{ nF}$, então: \n",
    "\n",
    "$$ k = 2\\pi\\cdot8\\text{k}\\cdot68\\text{n} = 3.41\\cdot10^{-3}$$\n",
    "$$ C_3 = C_1 = 68 \\text{ nF}$$\n",
    "$$ C_4 = \\frac{68\\text{n}}{2.2} = 30.91 \\text{ nF}$$\n",
    "\n",
    "Considerando o fator de qualidade $Q$ como igual a $1$, então: \n",
    "\n",
    "$$ R_2 = \\frac{1}{3.41\\cdot10^{-3}(2+\\frac{1}{2.2})} = 119.19 \\space \\Omega$$\n",
    "$$ R_5 = \\frac{2.2(2+\\frac{1}{2.2})}{1\\cdot3.41\\cdot10^{-3}} = 1583.58 \\space \\Omega$$\n",
    "\n",
    "Ajustando os valores encontrados para componentes encontrados comercialmente, temos: \n",
    "\n",
    "$$C_1 = C_3 = 68 \\text{ nF}$$\n",
    "$$C_4 = 33 \\text{ nF}$$\n",
    "$$R_2 = (68 + 56) \\space \\Omega$$\n",
    "$$R_5 = 1.6 \\text{k} \\space \\Omega$$"
   ]
  },
  {
   "cell_type": "code",
   "execution_count": null,
   "metadata": {},
   "outputs": [],
   "source": []
  },
  {
   "cell_type": "code",
   "execution_count": null,
   "metadata": {},
   "outputs": [],
   "source": []
  }
 ],
 "metadata": {
  "language_info": {
   "name": "python"
  }
 },
 "nbformat": 4,
 "nbformat_minor": 2
}
